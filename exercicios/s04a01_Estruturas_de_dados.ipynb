{
  "cells": [
    {
      "cell_type": "markdown",
      "metadata": {
        "id": "v8pFWwviib2C"
      },
      "source": [
        "![Growdev](https://www.growdev.com.br/assets/images/logo_growdev.png)"
      ]
    },
    {
      "cell_type": "markdown",
      "metadata": {
        "id": "6Tkl4_HxifXZ"
      },
      "source": [
        "![Formação Engenharia de Dados](https://d335luupugsy2.cloudfront.net/cms/files/524558/1707226566/$occu5m8t1op)"
      ]
    },
    {
      "cell_type": "markdown",
      "metadata": {
        "id": "ty7Bzyl1i9bN"
      },
      "source": [
        "Este material tem como objetivo incentivar a prática dos conteúdos estudados até o momento, e a pesquisa. Tenha em consideração que o exercício foi pensado para incentivar a prática dos conteúdos estudados até então, porém aprender a pesquisar faz parte do processo de aprendizagem.\n",
        "\n",
        "Fique tranquilo, faça os exercícios com calma, e boa prática!\n"
      ]
    },
    {
      "cell_type": "markdown",
      "metadata": {
        "id": "DU5-yCQwjx3V"
      },
      "source": [
        "#Orientações:\n",
        "\n",
        " - Faça uma copia deste arquivo\n",
        " - Após concluir os exercicios, suba seu exercicio para o GitHub e compartilhe o link no **google** Classroom\n"
      ]
    },
    {
      "cell_type": "markdown",
      "metadata": {
        "id": "EzT810tnlmfE"
      },
      "source": [
        "#Exercícios"
      ]
    },
    {
      "cell_type": "markdown",
      "metadata": {
        "id": "rDqBAimhSq_C"
      },
      "source": [
        "#Listas"
      ]
    },
    {
      "cell_type": "markdown",
      "metadata": {
        "id": "GoGkz2n-SudC"
      },
      "source": [
        "Para esse exercicio você tera alguns desafios, separei eles em partes, vamos lá?\n",
        "\n",
        "1 - Crie uma lista com 100 números inteiros.\n",
        "- Pode ser uma sequência, ou caso queira se desafiar faça de números aleatorios.\n",
        "- Os dados não devem ser inseridos manualmente, utilize de um laço de repetição para adicionar os elementos a Lista.\n"
      ]
    },
    {
      "cell_type": "code",
      "execution_count": 1,
      "metadata": {
        "id": "lLYBJr0KSuJW"
      },
      "outputs": [
        {
          "name": "stdout",
          "output_type": "stream",
          "text": [
            "[898, 424, 596, 459, 154, 161, 43, 791, 622, 533, 844, 361, 773, 585, 901, 450, 872, 300, 354, 353, 659, 849, 351, 746, 730, 54, 119, 488, 381, 354, 529, 446, 465, 269, 297, 78, 923, 410, 39, 282, 387, 887, 327, 899, 930, 683, 417, 488, 851, 390, 732, 514, 447, 461, 6, 746, 96, 872, 923, 578, 397, 245, 703, 40, 516, 675, 205, 824, 937, 731, 63, 886, 251, 725, 393, 136, 572, 5, 796, 945, 906, 968, 162, 490, 454, 459, 596, 288, 691, 666, 686, 913, 241, 819, 780, 882, 392, 535, 442, 39]\n"
          ]
        }
      ],
      "source": [
        "import random\n",
        "\n",
        "numeros_aleatorios = [random.randint(1, 1000) for _ in range(100)]\n",
        "\n",
        "print(numeros_aleatorios)"
      ]
    },
    {
      "cell_type": "markdown",
      "metadata": {
        "id": "LQ0SVqxyVTD5"
      },
      "source": [
        "2 - Calcule e exiba a soma de todos os números da lista."
      ]
    },
    {
      "cell_type": "code",
      "execution_count": 2,
      "metadata": {
        "id": "6HP8yU1bVS0F"
      },
      "outputs": [
        {
          "name": "stdout",
          "output_type": "stream",
          "text": [
            "Soma dos números aleatórios: 52031\n"
          ]
        }
      ],
      "source": [
        "soma = sum(numeros_aleatorios)\n",
        "\n",
        "print(\"Soma dos números aleatórios:\", soma)"
      ]
    },
    {
      "cell_type": "markdown",
      "metadata": {
        "id": "HYQGLklTTPMx"
      },
      "source": [
        "3 - Exiba o maior e o menor número da lista."
      ]
    },
    {
      "cell_type": "code",
      "execution_count": 3,
      "metadata": {
        "id": "q_UZx7EETT6S"
      },
      "outputs": [
        {
          "name": "stdout",
          "output_type": "stream",
          "text": [
            "Maior número: 968\n",
            "Menor número: 5\n"
          ]
        }
      ],
      "source": [
        "maior_numero = max(numeros_aleatorios)\n",
        "menor_numero = min(numeros_aleatorios)\n",
        "\n",
        "print(\"Maior número:\", maior_numero)\n",
        "print(\"Menor número:\", menor_numero)"
      ]
    },
    {
      "cell_type": "markdown",
      "metadata": {
        "id": "1iU6ZtRhVN9i"
      },
      "source": [
        "4 - Pesquise se o número 77 esta presente na lista e exiba:\n",
        "- Quantas vezes esse número aparece na lista\n",
        "- Se aparece em qual ou quais posições(Indice)."
      ]
    },
    {
      "cell_type": "code",
      "execution_count": 4,
      "metadata": {
        "id": "OGVH4AoGWU2R"
      },
      "outputs": [
        {
          "name": "stdout",
          "output_type": "stream",
          "text": [
            "O número 77 não está presente na lista.\n"
          ]
        }
      ],
      "source": [
        "if 77 in numeros_aleatorios:\n",
        "    vezes_que_aparece = numeros_aleatorios.count(77)\n",
        "    \n",
        "    indices = [i for i, x in enumerate(numeros_aleatorios) if x == 77]\n",
        "    \n",
        "    print(\"O número 77 aparece\", vezes_que_aparece, \"vezes na lista.\")\n",
        "    print(\"O número 77 aparece nas seguintes posições:\", indices)\n",
        "else:\n",
        "    print(\"O número 77 não está presente na lista.\")"
      ]
    },
    {
      "cell_type": "markdown",
      "metadata": {
        "id": "jrwycUMvWVSu"
      },
      "source": [
        "5 - Ordene a lista de forma descendente e exiba."
      ]
    },
    {
      "cell_type": "code",
      "execution_count": 6,
      "metadata": {
        "id": "RvRpLp87e5CB"
      },
      "outputs": [
        {
          "name": "stdout",
          "output_type": "stream",
          "text": [
            "[968, 945, 937, 930, 923, 923, 913, 906, 901, 899, 898, 887, 886, 882, 872, 872, 851, 849, 844, 824, 819, 796, 791, 780, 773, 746, 746, 732, 731, 730, 725, 703, 691, 686, 683, 675, 666, 659, 622, 596, 596, 585, 578, 572, 535, 533, 529, 516, 514, 490, 488, 488, 465, 461, 459, 459, 454, 450, 447, 446, 442, 424, 417, 410, 397, 393, 392, 390, 387, 381, 361, 354, 354, 353, 351, 327, 300, 297, 288, 282, 269, 251, 245, 241, 205, 162, 161, 154, 136, 119, 96, 78, 63, 54, 43, 40, 39, 39, 6, 5]\n"
          ]
        }
      ],
      "source": [
        "numeros_aleatorios.sort(reverse=True)\n",
        "print(numeros_aleatorios)"
      ]
    },
    {
      "cell_type": "markdown",
      "metadata": {
        "id": "Be68CsC2OftE"
      },
      "source": [
        "## Tuplas:"
      ]
    },
    {
      "cell_type": "markdown",
      "metadata": {
        "id": "SQzRrAmq1SnR"
      },
      "source": [
        "Crie uma tupla com os dias da semana e peça para o usuário digitar um número de 1 a 7. Exiba o dia correspondente."
      ]
    },
    {
      "cell_type": "code",
      "execution_count": 7,
      "metadata": {
        "id": "7BqDEfeq1TZE"
      },
      "outputs": [
        {
          "name": "stdout",
          "output_type": "stream",
          "text": [
            "O dia correspondente é: Quarta-feira\n"
          ]
        }
      ],
      "source": [
        "dias_da_semana = (\"Segunda-feira\", \"Terça-feira\", \"Quarta-feira\", \"Quinta-feira\", \"Sexta-feira\", \"Sábado\", \"Domingo\")\n",
        "\n",
        "numero = int(input(\"Digite um número de 1 a 7: \"))\n",
        "\n",
        "if 1 <= numero <= 7:\n",
        "    print(\"O dia correspondente é:\", dias_da_semana[numero - 1])\n",
        "else:\n",
        "    print(\"Número inválido. Por favor, digite um número de 1 a 7.\")"
      ]
    },
    {
      "cell_type": "markdown",
      "metadata": {
        "id": "J9LW9fru7hv6"
      },
      "source": [
        "Crie duas tuplas com números inteiros e crie uma terceira tupla com a concatenação das duas."
      ]
    },
    {
      "cell_type": "code",
      "execution_count": 8,
      "metadata": {
        "id": "J2pBsS-f7idJ"
      },
      "outputs": [
        {
          "name": "stdout",
          "output_type": "stream",
          "text": [
            "(1, 2, 3, 4, 5, 6)\n"
          ]
        }
      ],
      "source": [
        "tupla1 = (1, 2, 3)\n",
        "tupla2 = (4, 5, 6)\n",
        "\n",
        "tupla_concatenada = tupla1 + tupla2\n",
        "\n",
        "print(tupla_concatenada)"
      ]
    },
    {
      "cell_type": "markdown",
      "metadata": {
        "id": "ytDz_SXB7o-8"
      },
      "source": [
        " Crie uma tupla com alguns elementos e remova um elemento específico."
      ]
    },
    {
      "cell_type": "code",
      "execution_count": 9,
      "metadata": {
        "id": "QvIAx6HP7pbh"
      },
      "outputs": [
        {
          "name": "stdout",
          "output_type": "stream",
          "text": [
            "(1, 2, 4, 5)\n"
          ]
        }
      ],
      "source": [
        "tupla = (1, 2, 3, 4, 5)\n",
        "elemento_remover = 3\n",
        "\n",
        "nova_tupla = tuple(x for x in tupla if x != elemento_remover)\n",
        "print(nova_tupla)"
      ]
    },
    {
      "cell_type": "markdown",
      "metadata": {
        "id": "v_JM0Has1pPL"
      },
      "source": [
        "#Sets"
      ]
    },
    {
      "cell_type": "markdown",
      "metadata": {
        "id": "Urrv-Y291roJ"
      },
      "source": [
        "Crie dois sets com cores diferentes e exiba na tela a união dos dois sets."
      ]
    },
    {
      "cell_type": "code",
      "execution_count": 12,
      "metadata": {
        "id": "FM4S-PEa1zSW"
      },
      "outputs": [
        {
          "name": "stdout",
          "output_type": "stream",
          "text": [
            "Todas as cores:  {'verde', 'vermelho', 'azul', 'amarelo', 'roxo'}\n"
          ]
        }
      ],
      "source": [
        "cores_set1 = {\"vermelho\", \"azul\", \"verde\"}\n",
        "cores_set2 = {\"amarelo\", \"roxo\", \"verde\"}\n",
        "\n",
        "uniao_cores = cores_set1.union(cores_set2)\n",
        "print(\"Todas as cores: \", uniao_cores)"
      ]
    },
    {
      "cell_type": "markdown",
      "metadata": {
        "id": "0q0tG4eG1zkL"
      },
      "source": [
        "Crie uma lista com alguns números repetidos. Converta essa lista em um set para remover as duplicatas e exiba o resultado."
      ]
    },
    {
      "cell_type": "code",
      "execution_count": 13,
      "metadata": {
        "id": "j4okoTWR2I_R"
      },
      "outputs": [
        {
          "name": "stdout",
          "output_type": "stream",
          "text": [
            "{1, 2, 3, 4, 5}\n"
          ]
        }
      ],
      "source": [
        "numeros_repetidos = [1, 2, 3, 4, 5, 1, 2, 3]\n",
        "\n",
        "numeros_sem_duplicatas = set(numeros_repetidos)\n",
        "\n",
        "print(numeros_sem_duplicatas)"
      ]
    },
    {
      "cell_type": "markdown",
      "metadata": {
        "id": "4MCBgr-k1fvU"
      },
      "source": [
        "#Dicionários:"
      ]
    },
    {
      "cell_type": "markdown",
      "metadata": {
        "id": "0A-DeyIMPh4g"
      },
      "source": [
        " Crie um dicionário com os nomes de algumas frutas e suas respectivas cores. Exiba na tela somente as frutas que são vermelhas."
      ]
    },
    {
      "cell_type": "code",
      "execution_count": 14,
      "metadata": {
        "id": "7jlD2DV4Pjom"
      },
      "outputs": [
        {
          "name": "stdout",
          "output_type": "stream",
          "text": [
            "maçã\n",
            "morango\n"
          ]
        }
      ],
      "source": [
        "frutas = {\n",
        "    \"maçã\": \"vermelho\",\n",
        "    \"banana\": \"amarelo\",\n",
        "    \"uva\": \"roxo\",\n",
        "    \"morango\": \"vermelho\",\n",
        "    \"pêssego\": \"laranja\"\n",
        "}\n",
        "\n",
        "for fruta, cor in frutas.items():\n",
        "    if cor == \"vermelho\":\n",
        "        print(fruta)"
      ]
    },
    {
      "cell_type": "markdown",
      "metadata": {
        "id": "q-XV14A-PmSa"
      },
      "source": [
        "Crie um dicionário com o nome e a idade de três pessoas. Busque por  um nome e exiba a idade correspondente."
      ]
    },
    {
      "cell_type": "code",
      "execution_count": 15,
      "metadata": {
        "id": "8rPH-lzG2gvh"
      },
      "outputs": [
        {
          "name": "stdout",
          "output_type": "stream",
          "text": [
            "A idade de Maria é 25 anos.\n"
          ]
        }
      ],
      "source": [
        "pessoas = {\n",
        "    \"João\": 30,\n",
        "    \"Maria\": 25,\n",
        "    \"Pedro\": 35\n",
        "}\n",
        "\n",
        "nome = input(\"Digite o nome da pessoa que deseja buscar: \")\n",
        "\n",
        "if nome in pessoas:\n",
        "    print(f\"A idade de {nome} é {pessoas[nome]} anos.\")\n",
        "else:\n",
        "    print(\"Nome não encontrado.\")"
      ]
    },
    {
      "cell_type": "markdown",
      "metadata": {
        "id": "yEn6q_MP5SdW"
      },
      "source": [
        "Crie um dicionário com os nomes e idades de algumas pessoas. Peça para o usuário digitar um nome e sua nova idade, e atualize o dicionário com essa informação."
      ]
    },
    {
      "cell_type": "code",
      "execution_count": 16,
      "metadata": {
        "id": "H-RHnfMm5TcR"
      },
      "outputs": [
        {
          "name": "stdout",
          "output_type": "stream",
          "text": [
            "Dicionário atualizado: {'João': 30, 'Maria': 26, 'Carlos': 40, 'Ana': 35}\n"
          ]
        }
      ],
      "source": [
        "pessoas = {\n",
        "    \"João\": 30,\n",
        "    \"Maria\": 25,\n",
        "    \"Carlos\": 40,\n",
        "    \"Ana\": 35\n",
        "}\n",
        "\n",
        "nome = input(\"Digite o nome da pessoa: \")\n",
        "nova_idade = int(input(\"Digite a nova idade: \"))\n",
        "\n",
        "pessoas[nome] = nova_idade\n",
        "\n",
        "print(\"Dicionário atualizado:\", pessoas)"
      ]
    },
    {
      "cell_type": "markdown",
      "metadata": {
        "id": "Jeelh1Xw2hab"
      },
      "source": [
        "Desafio Dicionários:\n",
        "\n",
        "Busque o código desenvolvido para o exercicio abaixo e altere o algoritmo para:\n",
        "\n",
        " - Salvar o resultado da eleição em um dícionário.\n",
        "\n",
        "\n",
        "Exemplo de saida do dicionario: {\"Candidato 1\": 2, \"Candidato 2\": 2, \"Voto Nulo\": 0, \"Voto Branco\": 1}\n",
        "\n",
        "\n",
        "Este exercicio foi realizado na lista da semana passada, exercicio de número 4:"
      ]
    },
    {
      "cell_type": "markdown",
      "metadata": {
        "id": "cDnoQXk83e5B"
      },
      "source": [
        "\n",
        "\"Em uma eleição presidencial existem dois candidatos. Os votos são informados através de códigos. Os dados utilizados para a contagem dos votos obedecem à seguinte codificação:\n",
        "\n",
        "1,2 = voto para os respectivos candidatos\n",
        "\n",
        "3 = voto nulo\n",
        "\n",
        "4 = voto em branco;\n",
        "\n",
        "Elabore um programa que leia o código de votação de 5 eleitores. Calcule e escreva: total de votos para cada candidato total de votos nulos total de votos em branco\""
      ]
    },
    {
      "cell_type": "code",
      "execution_count": 19,
      "metadata": {
        "id": "CRlV5NE82kpE"
      },
      "outputs": [
        {
          "name": "stdout",
          "output_type": "stream",
          "text": [
            "Resultado da Eleição:\n",
            "Candidato 1: 1\n",
            "Candidato 2: 1\n",
            "Voto Nulo: 2\n",
            "Voto Branco: 1\n"
          ]
        }
      ],
      "source": [
        "votos = {\"Candidato 1\": 0, \"Candidato 2\": 0, \"Voto Nulo\": 0, \"Voto Branco\": 0}\n",
        "\n",
        "for _ in range(5):\n",
        "    voto = int(input(\"Digite o código do voto (1, 2, 3 ou 4): \"))\n",
        "    \n",
        "    if voto == 1:\n",
        "        votos[\"Candidato 1\"] += 1\n",
        "    elif voto == 2:\n",
        "        votos[\"Candidato 2\"] += 1\n",
        "    elif voto == 3:\n",
        "        votos[\"Voto Nulo\"] += 1\n",
        "    elif voto == 4:\n",
        "        votos[\"Voto Branco\"] += 1\n",
        "\n",
        "print(\"Resultado da Eleição:\")\n",
        "for candidato, total_votos in votos.items():\n",
        "    print(f\"{candidato}: {total_votos}\")\n"
      ]
    },
    {
      "cell_type": "markdown",
      "metadata": {
        "id": "ffEKF4Kx5eQu"
      },
      "source": [
        "#Listas por Compreensão:"
      ]
    },
    {
      "cell_type": "markdown",
      "metadata": {
        "id": "IrQvRhQM5oj6"
      },
      "source": [
        "Crie uma lista com os números Impares de 1 a 20 utilizando listas por compreensão."
      ]
    },
    {
      "cell_type": "code",
      "execution_count": 20,
      "metadata": {
        "id": "lqgX2B6x5fLc"
      },
      "outputs": [
        {
          "name": "stdout",
          "output_type": "stream",
          "text": [
            "[1, 3, 5, 7, 9, 11, 13, 15, 17, 19]\n"
          ]
        }
      ],
      "source": [
        "numeros_impares = [num for num in range(1, 21) if num % 2 != 0]\n",
        "print(numeros_impares)"
      ]
    },
    {
      "cell_type": "markdown",
      "metadata": {
        "id": "R2DKj08Z5tqJ"
      },
      "source": [
        "Crie uma lista com as letras da frase \"Sou estudante de dados\", utilizando listas por compreensão."
      ]
    },
    {
      "cell_type": "code",
      "execution_count": 21,
      "metadata": {},
      "outputs": [
        {
          "name": "stdout",
          "output_type": "stream",
          "text": [
            "['S', 'o', 'u', 'e', 's', 't', 'u', 'd', 'a', 'n', 't', 'e', 'd', 'e', 'd', 'a', 'd', 'o', 's']\n"
          ]
        }
      ],
      "source": [
        "frase = \"Sou estudante de dados\"\n",
        "letras = [letra for letra in frase if letra != ' ']\n",
        "print(letras)"
      ]
    }
  ],
  "metadata": {
    "colab": {
      "provenance": []
    },
    "kernelspec": {
      "display_name": "Python 3",
      "name": "python3"
    },
    "language_info": {
      "codemirror_mode": {
        "name": "ipython",
        "version": 3
      },
      "file_extension": ".py",
      "mimetype": "text/x-python",
      "name": "python",
      "nbconvert_exporter": "python",
      "pygments_lexer": "ipython3",
      "version": "3.11.6"
    }
  },
  "nbformat": 4,
  "nbformat_minor": 0
}
