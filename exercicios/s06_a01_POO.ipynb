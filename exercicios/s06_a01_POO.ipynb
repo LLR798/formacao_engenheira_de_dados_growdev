{
  "nbformat": 4,
  "nbformat_minor": 0,
  "metadata": {
    "colab": {
      "provenance": []
    },
    "kernelspec": {
      "name": "python3",
      "display_name": "Python 3"
    },
    "language_info": {
      "name": "python"
    }
  },
  "cells": [
    {
      "cell_type": "markdown",
      "source": [
        "![Growdev](https://www.growdev.com.br/assets/images/logo_growdev.png)"
      ],
      "metadata": {
        "id": "v8pFWwviib2C"
      }
    },
    {
      "cell_type": "markdown",
      "source": [
        "![Formação Engenharia de Dados](https://d335luupugsy2.cloudfront.net/cms/files/524558/1707226566/$occu5m8t1op)"
      ],
      "metadata": {
        "id": "6Tkl4_HxifXZ"
      }
    },
    {
      "cell_type": "markdown",
      "source": [
        "Este material tem como objetivo incentivar a prática dos conteúdos estudados até o momento, e a pesquisa. Tenha em consideração que o exercício foi pensado para incentivar a prática dos conteúdos estudados até então, porém aprender a pesquisar faz parte do processo de aprendizagem.\n",
        "\n",
        "Fique tranquilo, faça os exercícios com calma, e boa prática!\n"
      ],
      "metadata": {
        "id": "ty7Bzyl1i9bN"
      }
    },
    {
      "cell_type": "markdown",
      "source": [
        "#Orientações:\n",
        "\n",
        " - Faça uma copia deste arquivo\n",
        " - Após concluir os exercicios, suba seu exercicio para o GitHub e compartilhe o link no **google** Classroom\n"
      ],
      "metadata": {
        "id": "DU5-yCQwjx3V"
      }
    },
    {
      "cell_type": "markdown",
      "source": [
        "#Exercícios"
      ],
      "metadata": {
        "id": "EzT810tnlmfE"
      }
    },
    {
      "cell_type": "markdown",
      "source": [
        "Crie uma classe que modele uma bola:\n",
        "- Atributos\n",
        " - Cor\n",
        " - Circunferência\n",
        " - Material\n",
        "- Métodos\n",
        " - troca_cor\n",
        " - mostra_cor\n"
      ],
      "metadata": {
        "id": "sYEv1vohLu34"
      }
    },
    {
      "cell_type": "code",
      "source": [
        "class Bola:\n",
        "  def __init__(self, cor, circunferencia, material):\n",
        "    self.cor = cor\n",
        "    self.circunferencia = circunferencia\n",
        "    self.material = material\n",
        "\n",
        "  def trocar_cor(self, nova_cor):\n",
        "    self.cor = nova_cor\n",
        "\n",
        "  def mostrar_cor(self):\n",
        "    print(f\"A cor da bola é {self.cor}\")"
      ],
      "metadata": {
        "id": "0drCl45SMELV"
      },
      "execution_count": 5,
      "outputs": []
    },
    {
      "cell_type": "code",
      "source": [
        "bola_1 = Bola(\"Branco\", 10, \"Plástico\")\n",
        "bola_1.mostrar_cor()"
      ],
      "metadata": {
        "colab": {
          "base_uri": "https://localhost:8080/"
        },
        "id": "tOANQpPZ2n9Q",
        "outputId": "10672985-ebbc-4352-dd21-39312376b231"
      },
      "execution_count": 7,
      "outputs": [
        {
          "output_type": "stream",
          "name": "stdout",
          "text": [
            "A cor da bola é Branco\n"
          ]
        }
      ]
    },
    {
      "cell_type": "code",
      "source": [
        "bola_1.trocar_cor(\"Vermelho\")\n",
        "bola_1.mostrar_cor()"
      ],
      "metadata": {
        "colab": {
          "base_uri": "https://localhost:8080/"
        },
        "id": "HO2gb9-h3e0L",
        "outputId": "7110af8f-55f0-43eb-ad64-57e316bb4248"
      },
      "execution_count": 8,
      "outputs": [
        {
          "output_type": "stream",
          "name": "stdout",
          "text": [
            "A cor da bola é Vermelho\n"
          ]
        }
      ]
    },
    {
      "cell_type": "markdown",
      "source": [
        "Crie uma classe que modele um retângulo:\n",
        "- Atributos:\n",
        " - LadoA,\n",
        " - LadoB\n",
        "  - (ou Comprimento e Largura, ou Base e Altura, a escolher)\n",
        "- Métodos:\n",
        " - Mudar valor dos lados\n",
        " - Retornar valor dos lados\n",
        " - Calcular Área (multiplicar a base pela a altura)\n",
        " - Calcular Perímetro (soma de todos os lados);\n",
        "\n",
        "- Crie  um  programa  que  utilize  esta  classe.  Ele  deve  pedir  ao  usuário  que  informe  as  medidas  de  um  local.  \n",
        "Depois,  deve-se criar  um  objeto  com  as  medidas  e  calcular  a quantidade (em m²) de pisos (1 x 1 m²) e de rodapés necessários para o local.\n"
      ],
      "metadata": {
        "id": "6y7X1dc-MFr1"
      }
    },
    {
      "cell_type": "code",
      "source": [
        "class Retangulo:\n",
        "    def __init__(self, comprimento, largura):\n",
        "        self.comprimento = comprimento\n",
        "        self.largura = largura\n",
        "\n",
        "    def calcular_area(self):\n",
        "        print(f\"Área do retângulo é: {self.comprimento * self.largura}\")\n",
        "\n",
        "    def calcular_perimetro(self):\n",
        "        print(f\"Perímetro do retângulo é: {2 * (self.comprimento + self.largura)}\")"
      ],
      "metadata": {
        "id": "3STuEE9aB5XF"
      },
      "execution_count": 35,
      "outputs": []
    },
    {
      "cell_type": "code",
      "source": [
        "retangulo_1 = Retangulo(2, 5)\n",
        "retangulo_1.calcular_area()\n",
        "retangulo_1.calcular_perimetro()"
      ],
      "metadata": {
        "colab": {
          "base_uri": "https://localhost:8080/"
        },
        "id": "WLi9W2QWDkLv",
        "outputId": "2da1a051-fbef-46e8-e7b1-0507520f252f"
      },
      "execution_count": 36,
      "outputs": [
        {
          "output_type": "stream",
          "name": "stdout",
          "text": [
            "Área do retângulo é: 10\n",
            "Perímetro do retângulo é: 14\n"
          ]
        }
      ]
    },
    {
      "cell_type": "markdown",
      "source": [
        "Crie  um  programa  que  utilize  esta  classe.  Ele  deve  pedir  ao  usuário  que  informe  as  medidas  de  um  local.  \n",
        "Depois,  deve-se criar  um  objeto  com  as  medidas  e  calcular  a quantidade (em m²) de pisos (1 x 1 m²) e de rodapés necessários para o local.\n",
        "\n",
        "Para calcular a quantidade de pisos e rodapés em m² necessários para um local, siga os passos abaixo:\n",
        "\n",
        "**1. Cálculo da área do piso:**\n",
        "\n",
        "* **Meça as dimensões do local:** Comprimento e largura em metros.\n",
        "* **Multiplique as dimensões:** Comprimento x Largura = Área em m²\n",
        "* **Adicione uma margem de segurança:** Acrescente 10% à área total para compensar perdas por cortes e quebras.\n",
        "* **Divida a área total pela área de cada piso:** Área total / Área do piso (1m²) = Quantidade de pisos\n",
        "\n",
        "**Exemplo:**\n",
        "\n",
        "* Comprimento: 5 metros\n",
        "* Largura: 4 metros\n",
        "* Área: 5m x 4m = 20m²\n",
        "* Margem de segurança: 20m² x 10% = 2m²\n",
        "* Área total com margem: 20m² + 2m² = 22m²\n",
        "* Quantidade de pisos: 22m² / 1m² = 22 pisos\n",
        "\n",
        "**2. Cálculo da quantidade de rodapé:**\n",
        "\n",
        "* **Meça o perímetro do local:** Some as medidas de todas as paredes em metros.\n",
        "* **Subtraia as larguras das portas:** Desconte a largura de cada porta da medida total do perímetro.\n",
        "* **Divida o perímetro pelo comprimento de cada rodapé:** Perímetro total / Comprimento do rodapé = Quantidade de rodapés\n",
        "* **Adicione uma margem de segurança:** Acrescente 10% à quantidade total para compensar perdas por cortes e quebras.\n",
        "\n",
        "**Exemplo:**\n",
        "\n",
        "* Perímetro total: 18 metros\n",
        "* Largura total das portas: 2 metros\n",
        "* Perímetro a ser revestido: 18m - 2m = 16m\n",
        "* Comprimento do rodapé: 2 metros\n",
        "* Quantidade de rodapés: 16m / 2m = 8 rodapés\n",
        "* Margem de segurança: 8 rodapés x 10% = 0.8 rodapés (arredonde para 1)\n",
        "* Quantidade total de rodapés: 8 rodapés + 1 rodapé = 9 rodapés\n"
      ],
      "metadata": {
        "id": "aILvJ5b3Ecjj"
      }
    },
    {
      "cell_type": "code",
      "source": [
        "class QtdNecessaria(Retangulo):\n",
        "    def __init__(self, comprimento, largura, comprimento_rodape, area_piso=1, margem_de_seguranca=0.1):\n",
        "        super().__init__(comprimento, largura)\n",
        "        self.comprimento_rodape = comprimento_rodape\n",
        "        self.area_piso = area_piso\n",
        "        self.margem_de_seguranca = margem_de_seguranca\n",
        "\n",
        "    def calcular_pisos(self):\n",
        "        area = self.comprimento * self.largura\n",
        "        area_com_margem = area * (1 + self.margem_de_seguranca)\n",
        "        return area_com_margem / self.area_piso\n",
        "\n",
        "    def calcular_rodapes(self):\n",
        "        perimetro = 2 * (self.comprimento + self.largura)\n",
        "        perimetro_com_margem = perimetro * (1 + self.margem_de_seguranca)\n",
        "        return perimetro_com_margem / self.comprimento_rodape\n",
        "\n",
        "\n",
        "def calcular_materiais():\n",
        "    comprimento = float(input(\"Digite o comprimento do local em metros: \"))\n",
        "    largura = float(input(\"Digite a largura do local em metros: \"))\n",
        "    comprimento_rodape = float(input(\"Digite o comprimento do rodapé em metros: \"))\n",
        "\n",
        "    local = QtdNecessaria(comprimento, largura, comprimento_rodape)\n",
        "\n",
        "    print(f\"Quantidade de pisos necessários: {local.calcular_pisos():.0f}\")\n",
        "    print(f\"Quantidade de rodapés necessários: {local.calcular_rodapes():.0f}\")\n",
        "\n",
        "calcular_materiais()"
      ],
      "metadata": {
        "colab": {
          "base_uri": "https://localhost:8080/"
        },
        "id": "wZNIulA_nGdh",
        "outputId": "ac9a005b-1b4a-4faa-a5cb-6d6bf01c542d"
      },
      "execution_count": 72,
      "outputs": [
        {
          "output_type": "stream",
          "name": "stdout",
          "text": [
            "Digite o comprimento do local em metros: 5\n",
            "Digite a largura do local em metros: 4\n",
            "Digite o comprimento do rodapé em metros: 2\n",
            "Quantidade de pisos necessários: 22\n",
            "Quantidade de rodapés necessários: 10\n"
          ]
        }
      ]
    },
    {
      "cell_type": "code",
      "source": [
        "class QtdNecessaria(Retangulo):\n",
        "    def __init__(self, comprimento, largura, comprimento_rodape, area_piso=1, margem_de_seguranca=0.1):\n",
        "        super().__init__(comprimento, largura)\n",
        "        self.comprimento_rodape = comprimento_rodape\n",
        "        self.area_piso = area_piso\n",
        "        self.margem_de_seguranca = margem_de_seguranca\n",
        "\n",
        "    def calcular_pisos(self):\n",
        "        area = self.comprimento * self.largura\n",
        "        area_com_margem = area * (1 + self.margem_de_seguranca)\n",
        "        return area_com_margem / self.area_piso\n",
        "\n",
        "    def calcular_rodapes(self):\n",
        "        perimetro = 2 * (self.comprimento + self.largura)\n",
        "        perimetro_com_margem = perimetro * (1 + self.margem_de_seguranca)\n",
        "        return perimetro_com_margem / self.comprimento_rodape\n",
        "\n",
        "    def calcular_materiais(self):\n",
        "        print(f\"Quantidade de pisos necessários são: {self.calcular_pisos():.0f}\")\n",
        "        print(f\"Quantidade de rodapés necessários são: {self.calcular_rodapes():.0f}\")"
      ],
      "metadata": {
        "id": "Q8k1iIPpl_KQ"
      },
      "execution_count": 69,
      "outputs": []
    },
    {
      "cell_type": "code",
      "source": [
        "local = QtdNecessaria(5, 4, 2)\n",
        "local.calcular_materiais()"
      ],
      "metadata": {
        "colab": {
          "base_uri": "https://localhost:8080/"
        },
        "id": "8tSzQkaemBF7",
        "outputId": "1f07a081-1c7c-4fb2-db85-62347f44c6e3"
      },
      "execution_count": 70,
      "outputs": [
        {
          "output_type": "stream",
          "name": "stdout",
          "text": [
            "Quantidade de pisos necessários são: 22\n",
            "Quantidade de rodapés necessários são: 10\n"
          ]
        }
      ]
    },
    {
      "cell_type": "markdown",
      "source": [
        "Crie  uma  classe  para  implementar  uma conta  corrente.  \n",
        "- A  classe  deve  possuir  os  seguintes  atributos:  \n",
        "  - número  da  conta\n",
        " - nome  do  correntista\n",
        " - saldo\n",
        "- Os métodos são os seguintes:\n",
        " - alterar_nome\n",
        " - deposito\n",
        " - saque\n",
        "\n",
        "No construtor, o saldo é opcional, com valor padrão zero e os demais atributos são obrigatórios.\n"
      ],
      "metadata": {
        "id": "FgEq2x_mMicx"
      }
    },
    {
      "cell_type": "code",
      "source": [
        "class ContaCorrente:\n",
        "    def __init__(self, numero_conta, nome_do_titular, saldo=0):\n",
        "        self.numero_conta = numero_conta\n",
        "        self.nome_do_titular = nome_do_titular\n",
        "        self.saldo = saldo\n",
        "\n",
        "    def alterar_nome(self, novo_nome):\n",
        "      self.nome_do_titular = novo_nome\n",
        "      print(f\"Nome alterado com sucesso, seu novo nome é {self.nome_do_titular}.\")\n",
        "\n",
        "    def depositar(self, valor):\n",
        "        if valor > 0:\n",
        "            self.saldo += valor\n",
        "            print(f\"Depósito de R$: {valor} realizado com sucesso.\")\n",
        "        else:\n",
        "            print(\"Erro: O valor do depósito deve ser maior que zero.\")\n",
        "\n",
        "    def sacar(self, valor):\n",
        "        if valor > 0:\n",
        "            if self.saldo >= valor:\n",
        "                self.saldo -= valor\n",
        "                print(f\"Saque de R$: {valor} realizado com sucesso.\")\n",
        "            else:\n",
        "                print(\"Erro: Saldo insuficiente para realizar o saque.\")\n",
        "        else:\n",
        "            print(\"Erro: O valor do saque deve ser maior que zero.\")\n",
        "\n",
        "    def exibir_saldo(self):\n",
        "        print(f\"Titular da conta: {self.nome_do_titular} | Conta: {self.numero_conta} | Saldo: {self.saldo}\")"
      ],
      "metadata": {
        "id": "EFe-4pq8NGRf"
      },
      "execution_count": 30,
      "outputs": []
    },
    {
      "cell_type": "code",
      "source": [
        "conta1 = ContaCorrente(\"32745\", \"Lucas\")\n",
        "conta1.exibir_saldo()\n",
        "\n",
        "conta1.depositar(2000)\n",
        "conta1.exibir_saldo()\n",
        "\n",
        "conta1.alterar_nome(\"Lucas Ramos\")\n",
        "\n",
        "conta1.sacar(300)\n",
        "conta1.exibir_saldo()\n",
        "\n",
        "conta1.sacar(700)\n",
        "conta1.exibir_saldo()"
      ],
      "metadata": {
        "colab": {
          "base_uri": "https://localhost:8080/"
        },
        "id": "BBip5NGQEpB_",
        "outputId": "a388385f-6781-459c-93d5-1d911743fbe8"
      },
      "execution_count": 31,
      "outputs": [
        {
          "output_type": "stream",
          "name": "stdout",
          "text": [
            "Titular da conta: Lucas | Conta: 32745 | Saldo: 0\n",
            "Depósito de R$: 2000 realizado com sucesso.\n",
            "Titular da conta: Lucas | Conta: 32745 | Saldo: 2000\n",
            "Nome alterado com sucesso, seu novo nome é Lucas Ramos.\n",
            "Saque de R$: 300 realizado com sucesso.\n",
            "Titular da conta: Lucas Ramos | Conta: 32745 | Saldo: 1700\n",
            "Saque de R$: 700 realizado com sucesso.\n",
            "Titular da conta: Lucas Ramos | Conta: 32745 | Saldo: 1000\n"
          ]
        }
      ]
    },
    {
      "cell_type": "markdown",
      "source": [
        "Crie uma classe que modele um Tamagochi (Bichinho Eletrônico):\n",
        "- Atributos\n",
        " - Nome\n",
        " - Fome\n",
        " - Saúde\n",
        " - Idade.  \n",
        "- Métodos\n",
        " - alterar_nome,  \n",
        " - alterar_fome\n",
        " - alterar_saude\n",
        " - alterar_idade\n",
        " - retornar_nome\n",
        " - retornar_saude\n",
        " - retornar_idade\n"
      ],
      "metadata": {
        "id": "VFXayO6DNJ3F"
      }
    },
    {
      "cell_type": "code",
      "source": [
        "class BichoEletronico:\n",
        "  def __init__(self, nome, fome, saude, idade=1):\n",
        "    self.nome = nome\n",
        "    self.fome = fome\n",
        "    self.saude = saude\n",
        "    self.idade = idade\n",
        "\n",
        "  def alterar_nome(self, nome_novo):\n",
        "    self.nome = nome_novo\n",
        "    print(f\"Nome alterado com sucesso!\")\n",
        "\n",
        "  def alterar_fome(self, fome_novo):\n",
        "    self.fome = fome_novo\n",
        "    print(f\"Fome alterada com sucesso!\")\n",
        "\n",
        "  def alterar_saude(self, saude_novo):\n",
        "    self.saude = saude_novo\n",
        "    print(f\"Saude alterada com sucesso!\")\n",
        "\n",
        "  def alterar_idade(self, idade_novo):\n",
        "    self.idade = idade_novo\n",
        "    print(f\"Idade alterada com sucesso!\")\n",
        "\n",
        "  def exibir_nome(self):\n",
        "    return f\"O nome do bichinho é: {self.nome}\"\n",
        "\n",
        "  def exibir_fome(self):\n",
        "    return f\"A fome do bichinho é: {self.fome}\"\n",
        "\n",
        "  def exibir_saude(self):\n",
        "    return f\"A saude do bichinho é: {self.saude}\"\n",
        "\n",
        "  def exibir_idade(self):\n",
        "    return f\"A idade do bichinho é: {self.idade}\""
      ],
      "metadata": {
        "id": "JUO0B9kWNcCX"
      },
      "execution_count": 33,
      "outputs": []
    },
    {
      "cell_type": "code",
      "source": [
        "bicho_1 = BichoEletronico(\"Cleitin\", 50, 68)\n",
        "\n",
        "# Sem alterações:\n",
        "bicho_1.exibir_nome()\n",
        "bicho_1.exibir_fome()\n",
        "bicho_1.exibir_saude()\n",
        "bicho_1.exibir_idade()\n",
        "\n",
        "# Com alterações:\n",
        "bicho_1.alterar_nome(\"Zoiudo\")\n",
        "bicho_1.alterar_fome(2)\n",
        "bicho_1.alterar_saude(80)\n",
        "bicho_1.alterar_idade(2)\n",
        "\n",
        "bicho_1.exibir_nome()\n",
        "bicho_1.exibir_fome()\n",
        "bicho_1.exibir_saude()\n",
        "bicho_1.exibir_idade()\n",
        "\n",
        "# se precisar mudar tudo para print"
      ],
      "metadata": {
        "colab": {
          "base_uri": "https://localhost:8080/",
          "height": 107
        },
        "id": "BRp-fqfhJ_CT",
        "outputId": "75db322f-d07e-43b8-e88a-20d08446222e"
      },
      "execution_count": 34,
      "outputs": [
        {
          "output_type": "stream",
          "name": "stdout",
          "text": [
            "Nome alterado com sucesso!\n",
            "Fome alterada com sucesso!\n",
            "Saude alterada com sucesso!\n",
            "Idade alterada com sucesso!\n"
          ]
        },
        {
          "output_type": "execute_result",
          "data": {
            "text/plain": [
              "'A idade do bichinho é: 2'"
            ],
            "application/vnd.google.colaboratory.intrinsic+json": {
              "type": "string"
            }
          },
          "metadata": {},
          "execution_count": 34
        }
      ]
    },
    {
      "cell_type": "markdown",
      "source": [
        "Implemente uma classe chamada Carro com as seguintes propriedades:\n",
        "\n",
        "Um veículo tem um certo consumo de combustível (medidos em km / litro) e uma certa quantidade de combustível no tanque.\n",
        "\n",
        "- O consumo é especificado no construtor e o nível de combustível inicial é 0.\n",
        "\n",
        "\n",
        " - Forneça um método andar() que simula o ato de dirigir o veículo por uma certa distância, reduzindo o nível de combustível no tanque de gasolina.\n",
        "\n",
        "- Forneça um método obter_gasolina(), que retorna o nível atual de combustível\n",
        "\n",
        "  e forneça um método adicionar_gasolina(), para abastecer o tanque.\n",
        "\n"
      ],
      "metadata": {
        "id": "aqaMxrGMNhQv"
      }
    },
    {
      "cell_type": "code",
      "source": [
        "class Carro:\n",
        "  def __init__(self, consumo, combustivel=0):\n",
        "    self.consumo = consumo\n",
        "    self.combustivel = combustivel\n",
        "\n",
        "    def adicionar_gasolina(self, gasolina):\n",
        "      if gasolina > 0:\n",
        "        self.combustivel += gasolina\n",
        "        print(\"Abastecimento feito com sucesso!\")\n",
        "      else:\n",
        "        print(\"Erro: O quantidade de gasolina precisa ser maior que 0.\")\n",
        "\n",
        "    def andar(self, distancia):\n",
        "      if distancia > 0:\n",
        "        self.consumo = distancia / self.consumo\n",
        "        self.combustivel -= self.consumo\n",
        "        print(f\"Vruummm...\")\n",
        "      else:\n",
        "        print(\"Erro: A distância precisa ser maior que 0.\")\n",
        "\n",
        "    def exibir_gasolina(self):\n",
        "      print(f\"Você tem {self.combustivel} de gasolina.\")"
      ],
      "metadata": {
        "id": "yoT1FXJSzKwj"
      },
      "execution_count": 40,
      "outputs": []
    },
    {
      "cell_type": "code",
      "source": [
        "class Carro:\n",
        "    def __init__(self, consumo, combustivel=0):\n",
        "        self.consumo = consumo\n",
        "        self.combustivel = combustivel\n",
        "\n",
        "    def adicionar_gasolina(self, gasolina):\n",
        "        if gasolina > 0:\n",
        "            self.combustivel += gasolina\n",
        "            print(\"Abastecimento feito com sucesso!\")\n",
        "        else:\n",
        "            print(\"Erro: A quantidade de gasolina precisa ser maior que 0.\")\n",
        "\n",
        "    def andar(self, distancia):\n",
        "        if distancia > 0:\n",
        "            consumo_viagem = distancia / self.consumo\n",
        "            if consumo_viagem <= self.combustivel:\n",
        "                self.combustivel -= consumo_viagem\n",
        "                print(\"Vruummm...\")\n",
        "            else:\n",
        "                print(\"Erro: Combustível insuficiente para a viagem.\")\n",
        "        else:\n",
        "            print(\"Erro: A distância precisa ser maior que 0.\")\n",
        "\n",
        "    def exibir_gasolina(self):\n",
        "        print(f\"Você tem {self.combustivel:.2f} litros de gasolina.\")"
      ],
      "metadata": {
        "id": "SmJF4n75VPtR"
      },
      "execution_count": 46,
      "outputs": []
    },
    {
      "cell_type": "code",
      "source": [
        "veiculo = Carro(10)\n",
        "veiculo.adicionar_gasolina(20)\n",
        "veiculo.andar(150)\n",
        "veiculo.exibir_gasolina()"
      ],
      "metadata": {
        "colab": {
          "base_uri": "https://localhost:8080/"
        },
        "id": "If7CHXziVojH",
        "outputId": "eceebcc4-b1c1-47d9-837f-8037bb3b927c"
      },
      "execution_count": 48,
      "outputs": [
        {
          "output_type": "stream",
          "name": "stdout",
          "text": [
            "Abastecimento feito com sucesso!\n",
            "Vruummm...\n",
            "Você tem 5.00 litros de gasolina.\n"
          ]
        }
      ]
    }
  ]
}