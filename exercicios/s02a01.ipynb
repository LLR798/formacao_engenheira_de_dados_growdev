{
 "cells": [
  {
   "cell_type": "markdown",
   "metadata": {},
   "source": [
    "1 - Conversão de graus Celsius para Fahrenheit – Crie um programa que converta graus\n",
    "Celsius em Fahrenheit. A fórmula é a seguinte:\n",
    "\n",
    "(°C × 9/5) + 32\n",
    "\n",
    "O programa deve solicitar ao usuário que insira uma temperatura em graus Celsius e, em\n",
    "seguida, exiba a temperatura convertida em Fahrenheit. Após construir esse programa,\n",
    "modifique-o para que converta graus Fahrenheit em graus Celsius."
   ]
  },
  {
   "cell_type": "code",
   "execution_count": 10,
   "metadata": {},
   "outputs": [
    {
     "name": "stdout",
     "output_type": "stream",
     "text": [
      "59.0\n"
     ]
    }
   ],
   "source": [
    "# graus Celsius em Fahrenheit:\n",
    "# (°C × 9/5) + 32\n",
    "\n",
    "temperatura_em_celsius = float(input(\"Informe a temperatura em graus celsius: \"))\n",
    "celsius_para_fahrenheit = (temperatura_em_celsius * 1.8) + 32\n",
    "print(celsius_para_fahrenheit)"
   ]
  },
  {
   "cell_type": "code",
   "execution_count": 11,
   "metadata": {},
   "outputs": [
    {
     "name": "stdout",
     "output_type": "stream",
     "text": [
      "15\n"
     ]
    }
   ],
   "source": [
    "# graus Fahrenheit em Celsius:\n",
    "# (°F − 32) × 5/9\n",
    "\n",
    "fahrenheit_para_celsius = round((celsius_para_fahrenheit - 32) * 0.55)\n",
    "print(fahrenheit_para_celsius)"
   ]
  },
  {
   "cell_type": "markdown",
   "metadata": {},
   "source": [
    "2- Escreva um programa que receba um número e escreva “Par” caso esse número seja par\n",
    "e escreva “Impar” caso esse número seja impar."
   ]
  },
  {
   "cell_type": "code",
   "execution_count": 13,
   "metadata": {},
   "outputs": [
    {
     "name": "stdout",
     "output_type": "stream",
     "text": [
      "O número 14 é par.\n"
     ]
    }
   ],
   "source": [
    "numero = int(input(\"Digite um número: \"))\n",
    "\n",
    "if numero % 2 == 0:\n",
    "    print(f'O número {numero} é par.')\n",
    "else:\n",
    "    print(f'O número {numero} é ímpar.')"
   ]
  },
  {
   "cell_type": "markdown",
   "metadata": {},
   "source": [
    "3 - Escreva um programa que receba dois números, exiba as opções:\n",
    "\n",
    "1 - adição\n",
    "<br>\n",
    "2 - subtração\n",
    "\n",
    "Então peça ao usuário para escolher uma das opções. Caso escolha a opção 1 o programa\n",
    "deve realizar a soma dos dois números lidos e exibir. Caso escolha a opção 2 o programa\n",
    "deve realizar a subtração dos dois números lidos e exibir."
   ]
  },
  {
   "cell_type": "code",
   "execution_count": 22,
   "metadata": {},
   "outputs": [
    {
     "name": "stdout",
     "output_type": "stream",
     "text": [
      "Opção inválida, por favor selecione uma opção válida.\n",
      "8.0\n",
      "5.0\n"
     ]
    }
   ],
   "source": [
    "import textwrap\n",
    "\n",
    "def menu():\n",
    "    menu = \"\"\"\\n\n",
    "    \n",
    "    ====== Olá, seja bem-vindo! ======\n",
    "    \n",
    "    [1]\\tAdição\n",
    "    [2]\\tSubtração\n",
    "    [q]\\tSair\n",
    "    => \"\"\"\n",
    "    return input(textwrap.dedent(menu))\n",
    "\n",
    "def adicao(num1, num2):\n",
    "    return num1 + num2\n",
    "\n",
    "def subtracao(num1, num2):\n",
    "    return num1 - num2\n",
    "\n",
    "def main():\n",
    "    while True:\n",
    "        opcao = menu()\n",
    "        \n",
    "        if opcao == \"1\":\n",
    "            numero_1 = float(input(\"Digite o primeiro número: \"))\n",
    "            numero_2 = float(input(\"Digite o segundo número: \"))\n",
    "            \n",
    "            print(adicao(numero_1, numero_2))\n",
    "        \n",
    "        elif opcao == \"2\":\n",
    "            numero_1 = float(input(\"Digite o primeiro número: \"))\n",
    "            numero_2 = float(input(\"Digite o segundo número: \"))\n",
    "            \n",
    "            print(subtracao(numero_1, numero_2))\n",
    "        \n",
    "        elif opcao == \"q\":\n",
    "            break\n",
    "        \n",
    "        else:\n",
    "            print(\"Opção inválida, por favor selecione uma opção válida.\")\n",
    "            \n",
    "main()"
   ]
  },
  {
   "cell_type": "markdown",
   "metadata": {},
   "source": [
    "4 - Numa determinada escola, os critérios de aprovação são os seguintes:\n",
    "\n",
    "- O aluno deve ter, no máximo, 25% de faltas;\n",
    "- A nota final deve ser igual ou superior a 7,00.\n",
    "\n",
    "Construa um programa para ler as notas que um aluno tirou nos 4 bimestres, o número total\n",
    "de aulas e o número de faltas, mostrando ao final a situação do aluno como sendo\n",
    "“Aprovado”, “Reprovado por Faltas” e “Reprovado por média”, considerando que a\n",
    "reprovação por faltas se sobrepõe a reprovação por nota."
   ]
  },
  {
   "cell_type": "code",
   "execution_count": 28,
   "metadata": {},
   "outputs": [
    {
     "name": "stdout",
     "output_type": "stream",
     "text": [
      "Reprovado por média inferior a 7.0\n"
     ]
    }
   ],
   "source": [
    "bimestre_1 = float(input(\"Digite a nota do primeiro bimestre: \"))\n",
    "bimestre_2 = float(input(\"Digite a nota do segundo bimestre: \"))\n",
    "bimestre_3 = float(input(\"Digite a nota do terceiro bimestre: \"))\n",
    "bimestre_4 = float(input(\"Digite a nota do quarto bimestre: \"))\n",
    "\n",
    "total_de_aulas = float(input(\"Digite o número total de aulas\"))\n",
    "total_de_faltas = float(input(\"Digite o número total de faltas\"))\n",
    "\n",
    "media_do_aluno = (bimestre_1 + bimestre_2 + bimestre_3 + bimestre_4) / 4\n",
    "porcentagem_de_faltas = (total_de_faltas / total_de_aulas) * 100\n",
    "\n",
    "if porcentagem_de_faltas > 25:\n",
    "    print(\"Reprovado por faltas.\")\n",
    "\n",
    "elif media_do_aluno >= 7:\n",
    "    print(\"Aluno aprovado.\")\n",
    "\n",
    "else:\n",
    "    print(\"Reprovado por média inferior a 7.0\")"
   ]
  },
  {
   "cell_type": "markdown",
   "metadata": {},
   "source": [
    "5 - Após construir o programa anterior, crie mais duas versões dele para prever as seguintes\n",
    "situações:\n",
    "\n",
    "- Um aluno pode ficar em recuperação se possuir frequência suficiente (superior a\n",
    "75%) e média superior a 5 mas inferior a 7;\n",
    "- Caso um aluno reprove por média e faltas, sua situação deve ser “Reprovado por\n",
    "Média e Faltas” (ao invés de simplesmente “Reprovado por Faltas” como antes)."
   ]
  },
  {
   "cell_type": "code",
   "execution_count": 30,
   "metadata": {},
   "outputs": [
    {
     "name": "stdout",
     "output_type": "stream",
     "text": [
      "Ficou de recuperação\n"
     ]
    }
   ],
   "source": [
    "# Um aluno pode ficar em recuperação se possuir frequência suficiente (superior a\n",
    "# 75%) e média superior a 5 mas inferior a 7;\n",
    "\n",
    "bimestre_1 = float(input(\"Digite a nota do primeiro bimestre: \"))\n",
    "bimestre_2 = float(input(\"Digite a nota do segundo bimestre: \"))\n",
    "bimestre_3 = float(input(\"Digite a nota do terceiro bimestre: \"))\n",
    "bimestre_4 = float(input(\"Digite a nota do quarto bimestre: \"))\n",
    "\n",
    "total_de_aulas = float(input(\"Digite o número total de aulas\"))\n",
    "total_de_faltas = float(input(\"Digite o número total de faltas\"))\n",
    "\n",
    "media_do_aluno = (bimestre_1 + bimestre_2 + bimestre_3 + bimestre_4) / 4\n",
    "porcentagem_de_faltas = (total_de_faltas / total_de_aulas) * 100\n",
    "\n",
    "if porcentagem_de_faltas > 25:\n",
    "    print(\"Reprovado por faltas.\")\n",
    "\n",
    "elif porcentagem_de_faltas < 25 and media_do_aluno > 5 and media_do_aluno < 7:\n",
    "    print(\"Ficou de recuperação\")\n",
    "\n",
    "elif media_do_aluno >= 7:\n",
    "    print(\"Aluno aprovado.\")\n",
    "\n",
    "else:\n",
    "    print(\"Reprovado por média inferior a 7.0\")"
   ]
  },
  {
   "cell_type": "code",
   "execution_count": 31,
   "metadata": {},
   "outputs": [
    {
     "name": "stdout",
     "output_type": "stream",
     "text": [
      "Reprovado por média e faltas.\n"
     ]
    }
   ],
   "source": [
    "# Caso um aluno reprove por média e faltas, sua situação deve ser “Reprovado por\n",
    "# Média e Faltas” (ao invés de simplesmente “Reprovado por Faltas” como antes).\n",
    "\n",
    "bimestre_1 = float(input(\"Digite a nota do primeiro bimestre: \"))\n",
    "bimestre_2 = float(input(\"Digite a nota do segundo bimestre: \"))\n",
    "bimestre_3 = float(input(\"Digite a nota do terceiro bimestre: \"))\n",
    "bimestre_4 = float(input(\"Digite a nota do quarto bimestre: \"))\n",
    "\n",
    "total_de_aulas = float(input(\"Digite o número total de aulas\"))\n",
    "total_de_faltas = float(input(\"Digite o número total de faltas\"))\n",
    "\n",
    "media_do_aluno = (bimestre_1 + bimestre_2 + bimestre_3 + bimestre_4) / 4\n",
    "porcentagem_de_faltas = (total_de_faltas / total_de_aulas) * 100\n",
    "\n",
    "if porcentagem_de_faltas > 25 and media_do_aluno < 7:\n",
    "    print(\"Reprovado por média e faltas.\")\n",
    "\n",
    "elif porcentagem_de_faltas > 25:\n",
    "    print(\"Reprovado por faltas.\")\n",
    "\n",
    "elif porcentagem_de_faltas < 25 and media_do_aluno > 5 and media_do_aluno < 7:\n",
    "    print(\"Ficou de recuperação\")\n",
    "\n",
    "elif media_do_aluno >= 7:\n",
    "    print(\"Aluno aprovado.\")\n",
    "\n",
    "else:\n",
    "    print(\"Reprovado por média inferior a 7.0\")"
   ]
  },
  {
   "cell_type": "markdown",
   "metadata": {},
   "source": [
    "6 - Escreva um programa que peça ao usuário para fornecer um dia, mês e o ano arbitrários\n",
    "e determine se esses dados correspondem a uma data válida. Não deixe de considerar que\n",
    "existem meses com 30 e 31 dias, e que fevereiro pode ter 28 ou 29 dias, dependendo se o\n",
    "ano for bissexto. Considere que um ano é bissexto quando for divisível por 4."
   ]
  },
  {
   "cell_type": "code",
   "execution_count": 2,
   "metadata": {},
   "outputs": [
    {
     "name": "stdout",
     "output_type": "stream",
     "text": [
      "Data válida!\n"
     ]
    }
   ],
   "source": [
    "def validar_data(dia, mes, ano):\n",
    "    if ano % 4 == 0:\n",
    "        dias_em_fevereiro = 29\n",
    "    else:\n",
    "        dias_em_fevereiro = 28\n",
    "\n",
    "    dias_no_mes = {\n",
    "        1: 31,  \n",
    "        2: dias_em_fevereiro, \n",
    "        3: 31,  \n",
    "        4: 30,  \n",
    "        5: 31,  \n",
    "        6: 30,  \n",
    "        7: 31,  \n",
    "        8: 31,  \n",
    "        9: 30,  \n",
    "        10: 31, \n",
    "        11: 30, \n",
    "        12: 31  \n",
    "    }\n",
    "\n",
    "    if mes < 1 or mes > 12:\n",
    "        return False\n",
    "\n",
    "    if dia < 1 or dia > dias_no_mes[mes]:\n",
    "        return False\n",
    "\n",
    "    return True\n",
    "\n",
    "dia_da_semana = int(input(\"Digite o dia: \"))\n",
    "mes_da_semana = int(input(\"Digite o mês: \"))\n",
    "ano_da_semana = int(input(\"Digite o ano: \"))\n",
    "\n",
    "if validar_data(dia_da_semana, mes_da_semana, ano_da_semana):\n",
    "    print(\"Data válida!\")\n",
    "else:\n",
    "    print(\"Data inválida!\")"
   ]
  },
  {
   "cell_type": "markdown",
   "metadata": {},
   "source": [
    "7- Construa um programa que leia uma data qualquer (dia, mês e ano) e calcule a data do\n",
    "próximo dia. Lembre-se que em anos bissextos o mês de fevereiro tem 29 dias. Lembre-se\n",
    "que um ano é bissexto quando for divisível por 4."
   ]
  },
  {
   "cell_type": "code",
   "execution_count": 3,
   "metadata": {},
   "outputs": [
    {
     "name": "stdout",
     "output_type": "stream",
     "text": [
      "A data do próximo dia é: 05/01/2024\n"
     ]
    }
   ],
   "source": [
    "def proximo_dia(dia, mes, ano):\n",
    "    dias_por_mes = [31, 28, 31, 30, 31, 30, 31, 31, 30, 31, 30, 31]\n",
    "\n",
    "    if (ano % 4 == 0 and ano % 100 != 0) or (ano % 400 == 0):\n",
    "        dias_por_mes[1] = 29\n",
    "\n",
    "    if dia < 1 or dia > dias_por_mes[mes - 1]:\n",
    "        return \"Data inválida.\"\n",
    "\n",
    "    if dia == dias_por_mes[mes - 1] and mes == 12:\n",
    "        return \"01/01/{}\".format(ano + 1)\n",
    "\n",
    "    if dia == dias_por_mes[mes - 1]:\n",
    "        return \"01/{:02d}/{}\".format(mes + 1, ano)\n",
    "\n",
    "    return \"{:02d}/{:02d}/{}\".format(dia + 1, mes, ano)\n",
    "\n",
    "dia = int(input(\"Digite o dia: \"))\n",
    "mes = int(input(\"Digite o mês: \"))\n",
    "ano = int(input(\"Digite o ano: \"))\n",
    "\n",
    "print(\"A data do próximo dia é:\", proximo_dia(dia, mes, ano))"
   ]
  },
  {
   "cell_type": "markdown",
   "metadata": {},
   "source": [
    "8 - Faça um programa que leia as duas notas parciais obtidas por um aluno numa\n",
    "disciplina ao longo de um semestre, e calcule a sua média. A atribuição de conceitos\n",
    "obedece à tabela abaixo:\n",
    "\n",
    "Média de Aproveitamento\n",
    "- Entre 9.0 e 10.0 Conceito - A\n",
    "- Entre 7.5 e 8.9 - B\n",
    "- Entre 6.0 e 7.4 - C\n",
    "- Entre 4.0 e 5.9 - D\n",
    "- Entre 0 e 3.9 - E\n",
    "\n",
    "O programa deve mostrar na tela as notas, a média, o conceito correspondente e a\n",
    "mensagem:\n",
    "\n",
    "APROVADO se o conceito for A, B ou C.\n",
    "REPROVADO se o conceito for D ou E."
   ]
  },
  {
   "cell_type": "code",
   "execution_count": 4,
   "metadata": {},
   "outputs": [
    {
     "name": "stdout",
     "output_type": "stream",
     "text": [
      "Nota 1: 9.0\n",
      "Nota 2: 8.0\n",
      "Média: 8.5\n",
      "Conceito: B\n",
      "Situação: APROVADO\n"
     ]
    }
   ],
   "source": [
    "nota1 = float(input(\"Digite a primeira nota: \"))\n",
    "nota2 = float(input(\"Digite a segunda nota: \"))\n",
    "\n",
    "media = (nota1 + nota2) / 2\n",
    "\n",
    "if media >= 9.0:\n",
    "    conceito = \"A\"\n",
    "elif media >= 7.5:\n",
    "    conceito = \"B\"\n",
    "elif media >= 6.0:\n",
    "    conceito = \"C\"\n",
    "elif media >= 4.0:\n",
    "    conceito = \"D\"\n",
    "else:\n",
    "    conceito = \"E\"\n",
    "\n",
    "if conceito in ['A', 'B', 'C']:\n",
    "    situacao = \"APROVADO\"\n",
    "else:\n",
    "    situacao = \"REPROVADO\"\n",
    "\n",
    "print(f\"Nota 1: {nota1}\")\n",
    "print(f\"Nota 2: {nota2}\")\n",
    "print(f\"Média: {media}\")\n",
    "print(f\"Conceito: {conceito}\")\n",
    "print(f\"Situação: {situacao}\")"
   ]
  },
  {
   "cell_type": "markdown",
   "metadata": {},
   "source": [
    "9 - As Organizações XTC resolveram dar um aumento de salário aos seus colaboradores e\n",
    "lhe contrataram para desenvolver o programa que calcula os reajustes. Faça um programa\n",
    "que recebe o salário de um colaborador e o reajuste segundo o seguinte critério, baseado\n",
    "no salário atual:\n",
    "\n",
    "- salários até R$ 280,00 (incluindo): aumento de 20%\n",
    "- salários entre R$ 280,00 e R$ 700,00: aumento de 15%\n",
    "- salários entre R$ 700,00 e R$ 1500,00: aumento de 10%\n",
    "- salários de R$ 1500,00 em diante: aumento de 5%\n",
    "\n",
    "Após o aumento ser realizado informe na tela:\n",
    "- o salário antes do reajuste;\n",
    "- o percentual de aumento aplicado;\n",
    "- o valor do aumento;\n",
    "- o novo salário, após o aumento."
   ]
  },
  {
   "cell_type": "code",
   "execution_count": 5,
   "metadata": {},
   "outputs": [
    {
     "name": "stdout",
     "output_type": "stream",
     "text": [
      "\n",
      "Salário antes do reajuste: R$ 1500.0\n",
      "Percentual de aumento aplicado: 10 %\n",
      "Valor do aumento: R$ 150.0\n",
      "Novo salário após o aumento: R$ 1650.0\n"
     ]
    }
   ],
   "source": [
    "salario = float(input(\"Digite o salário do colaborador: R$ \"))\n",
    "\n",
    "if salario <= 280:\n",
    "    percentual_aumento = 20\n",
    "elif salario <= 700:\n",
    "    percentual_aumento = 15\n",
    "elif salario <= 1500:\n",
    "    percentual_aumento = 10\n",
    "else:\n",
    "    percentual_aumento = 5\n",
    "\n",
    "aumento = salario * (percentual_aumento / 100)\n",
    "novo_salario = salario + aumento\n",
    "\n",
    "print(\"\\nSalário antes do reajuste: R$\", salario)\n",
    "print(\"Percentual de aumento aplicado:\", percentual_aumento, \"%\")\n",
    "print(\"Valor do aumento: R$\", aumento)\n",
    "print(\"Novo salário após o aumento: R$\", novo_salario)\n"
   ]
  }
 ],
 "metadata": {
  "kernelspec": {
   "display_name": "Python 3",
   "language": "python",
   "name": "python3"
  },
  "language_info": {
   "codemirror_mode": {
    "name": "ipython",
    "version": 3
   },
   "file_extension": ".py",
   "mimetype": "text/x-python",
   "name": "python",
   "nbconvert_exporter": "python",
   "pygments_lexer": "ipython3",
   "version": "3.11.6"
  }
 },
 "nbformat": 4,
 "nbformat_minor": 2
}
