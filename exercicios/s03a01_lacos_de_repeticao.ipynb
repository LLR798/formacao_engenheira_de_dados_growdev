{
  "cells": [
    {
      "cell_type": "markdown",
      "metadata": {
        "id": "v8pFWwviib2C"
      },
      "source": [
        "![Growdev](https://www.growdev.com.br/assets/images/logo_growdev.png)"
      ]
    },
    {
      "cell_type": "markdown",
      "metadata": {
        "id": "6Tkl4_HxifXZ"
      },
      "source": [
        "![Formação Engenharia de Dados](https://d335luupugsy2.cloudfront.net/cms/files/524558/1707226566/$occu5m8t1op)"
      ]
    },
    {
      "cell_type": "markdown",
      "metadata": {
        "id": "ty7Bzyl1i9bN"
      },
      "source": [
        "Este material tem como objetivo incentivar a prática dos conteúdos estudados até o momento, e a pesquisa. Tenha em consideração que o exercício foi pensado para incentivar a prática dos conteúdos estudados até então, porém aprender a pesquisar faz parte do processo de aprendizagem.\n",
        "\n",
        "Fique tranquilo, faça os exercícios com calma, e boa prática!\n"
      ]
    },
    {
      "cell_type": "markdown",
      "metadata": {
        "id": "DU5-yCQwjx3V"
      },
      "source": [
        "#Orientações:\n",
        "\n",
        " - Faça uma copia deste arquivo\n",
        " - Após concluir os exercicios, suba seu exercicio para o GitHub e compartilhe o link no **google** Classroom\n"
      ]
    },
    {
      "cell_type": "markdown",
      "metadata": {
        "id": "EzT810tnlmfE"
      },
      "source": [
        "#Exercícios"
      ]
    },
    {
      "cell_type": "markdown",
      "metadata": {
        "id": "p62-CTXgvn5E"
      },
      "source": [
        "\n",
        "1- Escrever um programa que lê 5 valores para a, um de cada vez, e conta quantos destes valores são negativos, escrevendo esta informação."
      ]
    },
    {
      "cell_type": "code",
      "execution_count": 1,
      "metadata": {},
      "outputs": [
        {
          "name": "stdout",
          "output_type": "stream",
          "text": [
            "Foram digitados 2 número(s) negativo(s).\n"
          ]
        }
      ],
      "source": [
        "isPositive = 0.0\n",
        "isNegative = 0.0\n",
        "\n",
        "for counter in range(5):\n",
        "    numero = float(input(\"Digite um valor qualquer: \"))\n",
        "    \n",
        "    if numero < 0:\n",
        "        isNegative += 1\n",
        "    \n",
        "    else:\n",
        "        isPositive += 1\n",
        "        \n",
        "print(f\"Foram digitados {round(isNegative)} número(s) negativo(s).\")"
      ]
    },
    {
      "cell_type": "markdown",
      "metadata": {
        "id": "59g_B9yRvqYS"
      },
      "source": [
        "2 - A prefeitura de uma cidade fez uma pesquisa entre seus habitantes, coletando dados sobre o salário e número de filhos. A prefeitura deseja saber:\n",
        "\n",
        "a) média do salário da população;\n",
        "\n",
        "b) média do número de filhos;\n",
        "\n",
        "c) maior salário;\n",
        "\n",
        "d) percentual de pessoas com salário até R$2000,00.\n",
        "\n",
        "Escreva um programa que receba as informações necessárias de 5 pessoas conforme a descrição e responda às questões a, b, c e d anteriores.\n"
      ]
    },
    {
      "cell_type": "code",
      "execution_count": 2,
      "metadata": {
        "id": "hz6OkEJBv52O"
      },
      "outputs": [
        {
          "name": "stdout",
          "output_type": "stream",
          "text": [
            "A média salarial é: R$ 2000.0\n",
            "A média de filho(s) é: 1.8\n",
            "O maior salário é: R$ 2500.0\n",
            "Percentual de pessoas com salário até R$ 2000,00 é: 40.00%\n"
          ]
        }
      ],
      "source": [
        "salary_registers = []\n",
        "number_of_children = []\n",
        "\n",
        "avg_salary = 0.0\n",
        "avg_number_of_children = 0.0\n",
        "highest_salary = 0.0\n",
        "salary_to_2000 = 0.0\n",
        "\n",
        "for counter in range(5):\n",
        "    salary = float(input(\"informe o seu salario: \"))\n",
        "    children = float(input(\"Quantos filhos você tem? \"))\n",
        "    \n",
        "    salary_registers.append(salary)\n",
        "    number_of_children.append(children)\n",
        "\n",
        "avg_salary = sum(salary_registers) / len(salary_registers)\n",
        "avg_number_of_children = sum(number_of_children) / len(number_of_children)\n",
        "highest_salary = max(salary_registers)\n",
        "\n",
        "salary_to_2000 = sum(1 for salary_register in salary_registers if salary_register <= 2000)\n",
        "\n",
        "salary_percentage = (salary_to_2000 / len(salary_registers)) * 100\n",
        "\n",
        "print(f\"A média salarial é: R$ {avg_salary}\")\n",
        "print(f\"A média de filho(s) é: {avg_number_of_children}\")\n",
        "print(f\"O maior salário é: R$ {highest_salary}\")\n",
        "print(f\"Percentual de pessoas com salário até R$ 2000,00 é: {salary_percentage:.2f}%\")"
      ]
    },
    {
      "cell_type": "markdown",
      "metadata": {
        "id": "V-7kNtvtwDN1"
      },
      "source": [
        "3 - Chico tem 1,50 metro e cresce 2 centímetros por ano, enquanto Zé tem 1,10 metro e cresce 3 centímetros por ano. Construa um programa que calcule e imprima quantos anos serão necessários para que Zé seja maior que Chico."
      ]
    },
    {
      "cell_type": "code",
      "execution_count": 4,
      "metadata": {
        "id": "Xlx4kqLpwE4L"
      },
      "outputs": [
        {
          "name": "stdout",
          "output_type": "stream",
          "text": [
            "Serão necessários 41 anos para Zé ser mais alto que Chico.\n"
          ]
        }
      ],
      "source": [
        "chico_height = 150  \n",
        "ze_height = 110    \n",
        "chico_growth = 2  \n",
        "ze_growth = 3   \n",
        "years = 0  \n",
        "\n",
        "while ze_height <= chico_height:\n",
        "    chico_height += chico_growth\n",
        "    ze_height += ze_growth\n",
        "    years += 1\n",
        "\n",
        "print(f\"Serão necessários {years} anos para Zé ser mais alto que Chico.\")"
      ]
    },
    {
      "cell_type": "markdown",
      "metadata": {
        "id": "BU7x-lumwGRO"
      },
      "source": [
        "4 - Em uma eleição presidencial existem quatro candidatos. Os votos são informados através de códigos. Os dados utilizados para a contagem dos votos obedecem à seguinte codificação:  \n",
        "\n",
        "1,2 = voto para os respectivos candidatos\n",
        "\n",
        "3 = voto nulo\n",
        "\n",
        "4 = voto em branco;\n",
        "\n",
        "Elabore um programa que leia o código de votação de 5 candidatos. Calcule e escreva:\n",
        "total de votos para cada candidato\n",
        "total de votos nulos\n",
        "total de votos em branco\n"
      ]
    },
    {
      "cell_type": "code",
      "execution_count": 3,
      "metadata": {
        "id": "tnOkAb44wQo5"
      },
      "outputs": [
        {
          "name": "stdout",
          "output_type": "stream",
          "text": [
            "Total de votos para o primeiro candidato foi: 2 voto(s).\n",
            "Total de votos para o segundo candidato foi: 1 voto(s).\n",
            "Total de votos nulos foi: 1 voto(s).\n",
            "Total de votos em branco foi: 1 voto(s).\n"
          ]
        }
      ],
      "source": [
        "first_candidate = []\n",
        "second_candidate = []\n",
        "null_votes = []\n",
        "white_votes = []\n",
        "\n",
        "counter = 0\n",
        "\n",
        "while counter < 5:\n",
        "    vote = int(input(f\"Qual é o seu voto pessoa {counter + 1}? 1 - Candidato A | 2 - Candidato B | 3 - Nulo | 4 - Em branco: \"))\n",
        "    \n",
        "    if vote == 1:\n",
        "        first_candidate.append(vote)\n",
        "        \n",
        "    elif vote == 2:\n",
        "        second_candidate.append(vote)\n",
        "        \n",
        "    elif vote == 3:\n",
        "        null_votes.append(vote)\n",
        "        \n",
        "    elif vote == 4:\n",
        "        white_votes.append(vote)\n",
        "        \n",
        "    else:\n",
        "        print(\"Opção inválida, observe as opções e vote novamente.\")\n",
        "        continue\n",
        "        \n",
        "    counter += 1 \n",
        "\n",
        "total_votes_in_first_candidate = len(first_candidate)\n",
        "total_votes_in_second_candidate = len(second_candidate)\n",
        "total_null_votes = len(null_votes)\n",
        "total_white_votes = len(white_votes)\n",
        "\n",
        "print(f\"Total de votos para o primeiro candidato foi: {total_votes_in_first_candidate} voto(s).\")\n",
        "print(f\"Total de votos para o segundo candidato foi: {total_votes_in_second_candidate} voto(s).\")\n",
        "print(f\"Total de votos nulos foi: {total_null_votes} voto(s).\")\n",
        "print(f\"Total de votos em branco foi: {total_white_votes} voto(s).\")"
      ]
    },
    {
      "cell_type": "markdown",
      "metadata": {
        "id": "oNyazyHPwzlo"
      },
      "source": [
        "5 - Escreva um programa que receba o nome de 10 pessoas e para cada pessoa, o lugar para o qual ela já viajou. Sendo que existem 3 possibilidades:\n",
        "\n",
        "Rio de Janeiro\n",
        "\n",
        "Bahia\n",
        "\n",
        "Minas Gerais\n",
        "\n",
        "Após, informar qual foi o destino mais visitado e qual o menos visitado.\n"
      ]
    },
    {
      "cell_type": "code",
      "execution_count": 4,
      "metadata": {
        "id": "FzTr2EY1w2Ey"
      },
      "outputs": [
        {
          "name": "stdout",
          "output_type": "stream",
          "text": [
            "O lugar mais visitado foi: Rio de Janeiro.\n",
            "O lugar menos visitado foi: Minas Gerais.\n"
          ]
        }
      ],
      "source": [
        "rio_de_janeiro = []\n",
        "bahia = []\n",
        "minas_gerais = []\n",
        "\n",
        "counter = 0\n",
        "\n",
        "while counter < 10:\n",
        "    travel = int(input(f\"Para qual cidade a pessoa {counter + 1} já viajou? 1 - Rio De Janeiro | 2 - Bahia | 3 - Minas Gerais: \"))\n",
        "    \n",
        "    if travel == 1:\n",
        "        rio_de_janeiro.append(travel)\n",
        "    \n",
        "    elif travel == 2:\n",
        "        bahia.append(travel)\n",
        "        \n",
        "    elif travel == 3:\n",
        "        minas_gerais.append(travel)\n",
        "        \n",
        "    else:\n",
        "        print(\"Opção inválida, observe as cidades disponíveis.\")\n",
        "        continue\n",
        "\n",
        "    counter += 1\n",
        "\n",
        "total_visits_in_RJ = len(rio_de_janeiro)\n",
        "total_visits_in_BA = len(bahia)\n",
        "total_visits_in_MG = len(minas_gerais)\n",
        "\n",
        "most_visited = 0\n",
        "least_visited = 0\n",
        "\n",
        "if total_visits_in_RJ == max(total_visits_in_RJ, total_visits_in_BA, total_visits_in_MG):\n",
        "    most_visited = \"Rio de Janeiro\"\n",
        "    \n",
        "elif total_visits_in_BA == max(total_visits_in_RJ, total_visits_in_BA, total_visits_in_MG):\n",
        "    most_visited = \"Bahia\"\n",
        "    \n",
        "else:\n",
        "    most_visited = \"Minas Gerais\"\n",
        "\n",
        "if total_visits_in_RJ == min(total_visits_in_RJ, total_visits_in_BA, total_visits_in_MG):\n",
        "    least_visited = \"Rio de Janeiro\"\n",
        "    \n",
        "elif total_visits_in_BA == min(total_visits_in_RJ, total_visits_in_BA, total_visits_in_MG):\n",
        "    least_visited = \"Bahia\"\n",
        "    \n",
        "else:\n",
        "    least_visited = \"Minas Gerais\"\n",
        "\n",
        "print(f\"O lugar mais visitado foi: {most_visited}.\")\n",
        "print(f\"O lugar menos visitado foi: {least_visited}.\")"
      ]
    },
    {
      "cell_type": "markdown",
      "metadata": {
        "id": "HVJPsqTcw95-"
      },
      "source": [
        "6 -  A série de Fibonacci é formada pela sequência 1,1,2,3,5,8,13,21,34,55,... Faça um programa capaz de gerar a série até o n−ésimo termo."
      ]
    },
    {
      "cell_type": "code",
      "execution_count": 5,
      "metadata": {
        "id": "ZwgmpSgGw-v3"
      },
      "outputs": [
        {
          "name": "stdout",
          "output_type": "stream",
          "text": [
            "A série de Fibonacci até o 90-ésimo termo é:\n",
            "[1, 1, 2, 3, 5, 8, 13, 21, 34, 55, 89, 144, 233, 377, 610, 987, 1597, 2584, 4181, 6765, 10946, 17711, 28657, 46368, 75025, 121393, 196418, 317811, 514229, 832040, 1346269, 2178309, 3524578, 5702887, 9227465, 14930352, 24157817, 39088169, 63245986, 102334155, 165580141, 267914296, 433494437, 701408733, 1134903170, 1836311903, 2971215073, 4807526976, 7778742049, 12586269025, 20365011074, 32951280099, 53316291173, 86267571272, 139583862445, 225851433717, 365435296162, 591286729879, 956722026041, 1548008755920, 2504730781961, 4052739537881, 6557470319842, 10610209857723, 17167680177565, 27777890035288, 44945570212853, 72723460248141, 117669030460994, 190392490709135, 308061521170129, 498454011879264, 806515533049393, 1304969544928657, 2111485077978050, 3416454622906707, 5527939700884757, 8944394323791464, 14472334024676221, 23416728348467685, 37889062373143906, 61305790721611591, 99194853094755497, 160500643816367088, 259695496911122585, 420196140727489673, 679891637638612258, 1100087778366101931, 1779979416004714189, 2880067194370816120]\n"
          ]
        }
      ],
      "source": [
        "n = int(input(\"Digite o valor de n para a série de Fibonacci: \"))\n",
        "\n",
        "a, b = 1, 1\n",
        "fibonacci_series = [a, b]\n",
        "\n",
        "for i in range(2, n):\n",
        "    next_term = a + b\n",
        "    fibonacci_series.append(next_term)\n",
        "    a, b = b, next_term\n",
        "\n",
        "print(f\"A série de Fibonacci até o {n}-ésimo termo é:\")\n",
        "print(fibonacci_series)"
      ]
    },
    {
      "cell_type": "markdown",
      "metadata": {
        "id": "DaF7vXEWxB6R"
      },
      "source": [
        "7 - Escreva um programa que conte em ordem reversa, de 25 a zero."
      ]
    },
    {
      "cell_type": "code",
      "execution_count": 6,
      "metadata": {
        "id": "2AYe_lX2xCdj"
      },
      "outputs": [
        {
          "name": "stdout",
          "output_type": "stream",
          "text": [
            "25\n",
            "24\n",
            "23\n",
            "22\n",
            "21\n",
            "20\n",
            "19\n",
            "18\n",
            "17\n",
            "16\n",
            "15\n",
            "14\n",
            "13\n",
            "12\n",
            "11\n",
            "10\n",
            "9\n",
            "8\n",
            "7\n",
            "6\n",
            "5\n",
            "4\n",
            "3\n",
            "2\n",
            "1\n",
            "0\n"
          ]
        }
      ],
      "source": [
        "# Contagem regressiva de 25 a 0\n",
        "for i in range(25, -1, -1):\n",
        "    print(i)"
      ]
    },
    {
      "cell_type": "markdown",
      "metadata": {
        "id": "Oc2yjIGqxF3h"
      },
      "source": [
        "8 - Crie um programa para que retorne o somatório de todos os números entre 1 e um valor fornecido pelo usuário. Por exemplo, se o usuário fornecer o número 4, o computador deverá calcular o somatório 1+ 2 + 3 + 4 = 10."
      ]
    },
    {
      "cell_type": "code",
      "execution_count": 7,
      "metadata": {
        "id": "m5gfIfomxGwe"
      },
      "outputs": [
        {
          "name": "stdout",
          "output_type": "stream",
          "text": [
            "O somatório de 1 até 5 é: 15\n"
          ]
        }
      ],
      "source": [
        "n = int(input(\"Digite um número inteiro: \"))\n",
        "\n",
        "add = 0\n",
        "\n",
        "for i in range(1, n + 1):\n",
        "    add += i\n",
        "\n",
        "print(\"O somatório de 1 até\", n, \"é:\", add)"
      ]
    },
    {
      "cell_type": "markdown",
      "metadata": {
        "id": "5D368hETyJQh"
      },
      "source": [
        "9 - Escreva um programa que leia a idade e salário de 10 pessoas. Informe em seguida:\n",
        "Qual é a média de idade entre as pessoas?\n",
        "Quantas pessoas há por faixa etária, considerando:\n",
        "jovens < 18\n",
        "18 <= adultos < 60\n",
        "idosos >= 60\n",
        "Em seguida, mostre qual é a faixa etária que acumula o maior salário.\n"
      ]
    },
    {
      "cell_type": "code",
      "execution_count": 9,
      "metadata": {
        "id": "zZsS7JHm0UY6"
      },
      "outputs": [
        {
          "name": "stdout",
          "output_type": "stream",
          "text": [
            "Média de idade: 35.2\n",
            "Quantidade de jovens: 2\n",
            "Quantidade de adultos: 6\n",
            "Quantidade de idosos: 2\n",
            "Faixa etária com maior salário: adulto\n"
          ]
        }
      ],
      "source": [
        "total_age = 0\n",
        "total_young = 0\n",
        "total_adults = 0\n",
        "total_elderly = 0\n",
        "highest_salary = 0\n",
        "age_group_highest_salary = \"\"\n",
        "\n",
        "for counter in range(10):\n",
        "    age = int(input(f\"Digite a idade da pessoa {counter + 1}: \"))\n",
        "    salary = float(input(f\"Digite o salário da pessoa {counter + 1}: \"))\n",
        "    \n",
        "    total_age += age\n",
        "    \n",
        "    if age < 18:\n",
        "        total_young += 1\n",
        "    elif age < 60:\n",
        "        total_adults += 1\n",
        "    else:\n",
        "        total_elderly += 1\n",
        "    \n",
        "    if salary > highest_salary:\n",
        "        highest_salary = salary\n",
        "        if age < 18:\n",
        "            age_group_highest_salary = \"jovem\"\n",
        "        elif age < 60:\n",
        "            age_group_highest_salary = \"adulto\"\n",
        "        else:\n",
        "            age_group_highest_salary = \"idoso\"\n",
        "\n",
        "average_age = total_age / 10\n",
        "\n",
        "print(f\"Média de idade: {average_age}\")\n",
        "print(f\"Quantidade de jovens: {total_young}\")\n",
        "print(f\"Quantidade de adultos: {total_adults}\")\n",
        "print(f\"Quantidade de idosos: {total_elderly}\")\n",
        "print(f\"Faixa etária com maior salário: {age_group_highest_salary}\")"
      ]
    },
    {
      "cell_type": "markdown",
      "metadata": {
        "id": "L4xlYJzdhZyV"
      },
      "source": [
        "10 - Crie uma calculadora simples que realiza operações de adição, subtração, multiplicação, divisão e exponenciação. O programa deve continuar pedindo operações até que o usuário escolha sair.Exemplo de saída:"
      ]
    },
    {
      "cell_type": "code",
      "execution_count": 11,
      "metadata": {
        "id": "t1GTUaOshazK"
      },
      "outputs": [
        {
          "name": "stdout",
          "output_type": "stream",
          "text": [
            "\n",
            "--- Menu Meda calculadora ---\n",
            "1. Adição\n",
            "2. Subtração\n",
            "3. Multiplicação\n",
            "4. Divisão\n",
            "5. Exponenciação\n",
            "6. Sair\n",
            "Resultado:  4.0\n",
            "\n",
            "--- Menu Meda calculadora ---\n",
            "1. Adição\n",
            "2. Subtração\n",
            "3. Multiplicação\n",
            "4. Divisão\n",
            "5. Exponenciação\n",
            "6. Sair\n",
            "Resultado:  2.0\n",
            "\n",
            "--- Menu Meda calculadora ---\n",
            "1. Adição\n",
            "2. Subtração\n",
            "3. Multiplicação\n",
            "4. Divisão\n",
            "5. Exponenciação\n",
            "6. Sair\n",
            "Resultado:  9.0\n",
            "\n",
            "--- Menu Meda calculadora ---\n",
            "1. Adição\n",
            "2. Subtração\n",
            "3. Multiplicação\n",
            "4. Divisão\n",
            "5. Exponenciação\n",
            "6. Sair\n",
            "Resultado:  5.0\n",
            "\n",
            "--- Menu Meda calculadora ---\n",
            "1. Adição\n",
            "2. Subtração\n",
            "3. Multiplicação\n",
            "4. Divisão\n",
            "5. Exponenciação\n",
            "6. Sair\n",
            "Resultado:  16.0\n",
            "\n",
            "--- Menu Meda calculadora ---\n",
            "1. Adição\n",
            "2. Subtração\n",
            "3. Multiplicação\n",
            "4. Divisão\n",
            "5. Exponenciação\n",
            "6. Sair\n",
            "Você saiu!\n"
          ]
        }
      ],
      "source": [
        "while True:\n",
        "    print(\"\\n--- Menu Meda calculadora ---\")\n",
        "    print(\"1. Adição\")\n",
        "    print(\"2. Subtração\")\n",
        "    print(\"3. Multiplicação\")\n",
        "    print(\"4. Divisão\")\n",
        "    print(\"5. Exponenciação\")\n",
        "    print(\"6. Sair\")\n",
        "    \n",
        "    choice = input(\"Escolha uma opção entre (1-6): \")\n",
        "\n",
        "    if choice == '1':\n",
        "        num1 = float(input(\"Insira o primeiro número: \"))\n",
        "        num2 = float(input(\"Insira o segundo número: \"))\n",
        "        result = num1 + num2\n",
        "        print(\"Resultado: \", result)\n",
        "\n",
        "    elif choice == '2':\n",
        "        num1 = float(input(\"Insira o primeiro número: \"))\n",
        "        num2 = float(input(\"Insira o segundo número: \"))\n",
        "        result = num1 - num2\n",
        "        print(\"Resultado: \", result)\n",
        "\n",
        "    elif choice == '3':\n",
        "        num1 = float(input(\"Insira o primeiro número: \"))\n",
        "        num2 = float(input(\"Insira o segundo número: \"))\n",
        "        result = num1 * num2\n",
        "        print(\"Resultado: \", result)\n",
        "\n",
        "    elif choice == '4':\n",
        "        num1 = float(input(\"Insira o primeiro número: \"))\n",
        "        num2 = float(input(\"Insira o segundo número: \"))\n",
        "        if num2 != 0:\n",
        "            result = num1 / num2\n",
        "            print(\"Resultado: \", result)\n",
        "        else:\n",
        "            print(\"Error: Divisão por zero!\")\n",
        "\n",
        "    elif choice == '5':\n",
        "        base = float(input(\"Insira o numero base: \"))\n",
        "        exponent = float(input(\"Insira o expoente: \"))\n",
        "        result = base ** exponent\n",
        "        print(\"Resultado: \", result)\n",
        "\n",
        "    elif choice == '6':\n",
        "        print(\"Você saiu!\")\n",
        "        break\n",
        "\n",
        "    else:\n",
        "        print(\"Escolha inválida! Por favor escolha um número entre 1 e 6.\")"
      ]
    },
    {
      "cell_type": "markdown",
      "metadata": {
        "id": "TvOVLvpYhohk"
      },
      "source": [
        "11 - Crie um jogo em que o computador escolha um número aleatório entre 1 e 100, e o jogador tenta adivinhá-lo. O programa deve dar dicas se o número é maior ou menor do que o número digitado pelo jogador. O jogo continua até que o jogador acerte o número."
      ]
    },
    {
      "cell_type": "markdown",
      "metadata": {
        "id": "GMjNhBcxo3ks"
      },
      "source": [
        "Exemplo de saída:\n",
        "\n",
        "Bem-vindo ao jogo de adivinhação!\n",
        "\n",
        "Tente adivinhar o número entre 1 e 100.\n",
        "\n",
        "Digite sua tentativa: 50\n",
        "\n",
        "O número é menor.\n",
        "\n",
        "Digite sua tentativa: 75\n",
        "\n",
        "O número é maior.\n",
        "\n",
        "Digite sua tentativa: 63\n",
        "\n",
        "O número é menor.\n",
        "\n",
        "Digite sua tentativa: 68\n",
        "\n",
        "Parabéns! Você acertou o número 68 em 4 tentativas!"
      ]
    },
    {
      "cell_type": "code",
      "execution_count": 12,
      "metadata": {
        "id": "wD7WVTzdh3Tf"
      },
      "outputs": [
        {
          "name": "stdout",
          "output_type": "stream",
          "text": [
            "Bem-vindo ao jogo de adivinhação!\n",
            "Tente adivinhar o número entre 1 e 100.\n",
            "O número é menor.\n",
            "O número é maior.\n",
            "O número é maior.\n",
            "O número é maior.\n",
            "\n",
            "Parabéns! Você acertou o número 47 em 5 tentativa(s)!\n"
          ]
        }
      ],
      "source": [
        "import random\n",
        "\n",
        "print(\"Bem-vindo ao jogo de adivinhação!\")\n",
        "print(\"Tente adivinhar o número entre 1 e 100.\")\n",
        "\n",
        "secret_number = random.randint(1, 100)\n",
        "\n",
        "attempts = 0\n",
        "\n",
        "while True:\n",
        "    attempt = int(input(\"\\nDigite sua tentativa: \"))\n",
        "\n",
        "    attempts += 1\n",
        "\n",
        "    if attempt == secret_number:\n",
        "        print(f\"\\nParabéns! Você acertou o número {secret_number} em {attempts} tentativa(s)!\")\n",
        "        break\n",
        "    \n",
        "    elif attempt > secret_number:\n",
        "        print(\"O número é menor.\")\n",
        "        \n",
        "    else:\n",
        "        print(\"O número é maior.\")"
      ]
    },
    {
      "cell_type": "markdown",
      "metadata": {
        "id": "528JJZodmafY"
      },
      "source": [
        "12 - Escreva um programa que calcula o valor de um investimento após um número específico de anos, considerando juros compostos. O usuário deve fornecer o principal (valor inicial do investimento), a taxa de juros anual (em porcentagem) e o número de anos.\n",
        "\n",
        "A fórmula para calcular o valor de um investimento após n anos com juros compostos é:\n",
        "\n",
        "A=P×(1+r)^n\n",
        "\n",
        "\n",
        "Onde:\n",
        "\n",
        "\n",
        "A é o valor do investimento após n anos,\n",
        "\n",
        "P é o principal (valor inicial do investimento),\n",
        "\n",
        "r é a taxa de juros anual (em decimal), e\n",
        "\n",
        "n é o número de anos."
      ]
    },
    {
      "cell_type": "markdown",
      "metadata": {
        "id": "-6opTpcXoxNw"
      },
      "source": [
        "\n",
        "Exemplo de saída:\n",
        "\n",
        "Digite o principal (R$): 1000\n",
        "\n",
        "Digite a taxa de juros anual (%): 5\n",
        "\n",
        "Digite o número de anos: 10\n",
        "\n",
        "O valor do investimento após 10 anos é: R$ 1628.89"
      ]
    },
    {
      "cell_type": "code",
      "execution_count": 13,
      "metadata": {
        "id": "3XHAThk1oFIT"
      },
      "outputs": [
        {
          "name": "stdout",
          "output_type": "stream",
          "text": [
            "O valor do investimento após 10 anos é: R$ 1628.89\n"
          ]
        }
      ],
      "source": [
        "principal = float(input(\"Digite o principal (R$): \"))\n",
        "annual_interest_rate = float(input(\"Digite a taxa de juros anual (%): \"))\n",
        "years = int(input(\"Digite o número de anos: \"))\n",
        "\n",
        "annual_interest_rate_decimal = annual_interest_rate / 100\n",
        "\n",
        "investment_value = principal * (1 + annual_interest_rate_decimal) ** years\n",
        "\n",
        "print(f\"O valor do investimento após {years} anos é: R$ {investment_value:.2f}\")\n"
      ]
    }
  ],
  "metadata": {
    "colab": {
      "provenance": []
    },
    "kernelspec": {
      "display_name": "Python 3",
      "name": "python3"
    },
    "language_info": {
      "codemirror_mode": {
        "name": "ipython",
        "version": 3
      },
      "file_extension": ".py",
      "mimetype": "text/x-python",
      "name": "python",
      "nbconvert_exporter": "python",
      "pygments_lexer": "ipython3",
      "version": "3.11.6"
    }
  },
  "nbformat": 4,
  "nbformat_minor": 0
}
